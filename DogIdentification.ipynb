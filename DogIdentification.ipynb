{
  "nbformat": 4,
  "nbformat_minor": 0,
  "metadata": {
    "colab": {
      "name": "DogIdentification.ipynb",
      "provenance": [],
      "collapsed_sections": [],
      "mount_file_id": "1B264V67zGiwDuUaXhJ6iUkdJcBIt2m-P",
      "authorship_tag": "ABX9TyOLo25XrKNBAIPrD7/y54OS",
      "include_colab_link": true
    },
    "kernelspec": {
      "name": "python3",
      "display_name": "Python 3"
    },
    "accelerator": "GPU"
  },
  "cells": [
    {
      "cell_type": "markdown",
      "metadata": {
        "id": "view-in-github",
        "colab_type": "text"
      },
      "source": [
        "<a href=\"https://colab.research.google.com/github/imkunals726/DogNet/blob/master/DogIdentification.ipynb\" target=\"_parent\"><img src=\"https://colab.research.google.com/assets/colab-badge.svg\" alt=\"Open In Colab\"/></a>"
      ]
    },
    {
      "cell_type": "markdown",
      "metadata": {
        "id": "FVf6AbqA3BOw",
        "colab_type": "text"
      },
      "source": [
        "I had this file uploaded on my drive you can also do so and then mount the drive and access that file."
      ]
    },
    {
      "cell_type": "code",
      "metadata": {
        "id": "plU2DE_DRvLl",
        "colab_type": "code",
        "colab": {}
      },
      "source": [
        "!cp \"drive/My Drive/dog-breed-identification.zip\" dog-breed-identification.zip"
      ],
      "execution_count": 1,
      "outputs": []
    },
    {
      "cell_type": "code",
      "metadata": {
        "id": "N-47Z-lB1u7N",
        "colab_type": "code",
        "colab": {}
      },
      "source": [
        "# !unzip dog-breed-identification.zip"
      ],
      "execution_count": 23,
      "outputs": []
    },
    {
      "cell_type": "code",
      "metadata": {
        "id": "7qMrjPSX3lMD",
        "colab_type": "code",
        "colab": {}
      },
      "source": [
        "import tensorflow as tf"
      ],
      "execution_count": 3,
      "outputs": []
    },
    {
      "cell_type": "code",
      "metadata": {
        "id": "KQgWWNz9vv0F",
        "colab_type": "code",
        "colab": {
          "base_uri": "https://localhost:8080/",
          "height": 196
        },
        "outputId": "8545c27d-1a1c-47d9-b373-e16a7b551b97"
      },
      "source": [
        "EPOCHS = 12\n",
        "BATCH_SIZE = 16 * 1 # this is 8 on TPU v3-8, it is 1 on CPU and GPU\n",
        "LR_START = 0.00001\n",
        "LR_MAX = 0.00005 * 1\n",
        "LR_MIN = 0.00001\n",
        "LR_RAMPUP_EPOCHS = 4\n",
        "LR_SUSTAIN_EPOCHS = 0\n",
        "LR_EXP_DECAY = .9\n",
        "\n",
        "def lrfn(epoch):\n",
        "    if epoch < LR_RAMPUP_EPOCHS:\n",
        "        lr = (LR_MAX - LR_START) / LR_RAMPUP_EPOCHS * epoch + LR_START\n",
        "    elif epoch < LR_RAMPUP_EPOCHS + LR_SUSTAIN_EPOCHS:\n",
        "        lr = LR_MAX\n",
        "    else:\n",
        "        lr = (LR_MAX - LR_MIN) * LR_EXP_DECAY**(epoch - LR_RAMPUP_EPOCHS - LR_SUSTAIN_EPOCHS) + LR_MIN\n",
        "    return lr\n",
        "    \n",
        "lr_callback = tf.keras.callbacks.LearningRateScheduler(lrfn, verbose=True)"
      ],
      "execution_count": 1,
      "outputs": [
        {
          "output_type": "error",
          "ename": "NameError",
          "evalue": "ignored",
          "traceback": [
            "\u001b[0;31m---------------------------------------------------------------------------\u001b[0m",
            "\u001b[0;31mNameError\u001b[0m                                 Traceback (most recent call last)",
            "\u001b[0;32m<ipython-input-1-6d895d065466>\u001b[0m in \u001b[0;36m<module>\u001b[0;34m()\u001b[0m\n\u001b[1;32m     17\u001b[0m     \u001b[0;32mreturn\u001b[0m \u001b[0mlr\u001b[0m\u001b[0;34m\u001b[0m\u001b[0;34m\u001b[0m\u001b[0m\n\u001b[1;32m     18\u001b[0m \u001b[0;34m\u001b[0m\u001b[0m\n\u001b[0;32m---> 19\u001b[0;31m \u001b[0mlr_callback\u001b[0m \u001b[0;34m=\u001b[0m \u001b[0mtf\u001b[0m\u001b[0;34m.\u001b[0m\u001b[0mkeras\u001b[0m\u001b[0;34m.\u001b[0m\u001b[0mcallbacks\u001b[0m\u001b[0;34m.\u001b[0m\u001b[0mLearningRateScheduler\u001b[0m\u001b[0;34m(\u001b[0m\u001b[0mlrfn\u001b[0m\u001b[0;34m,\u001b[0m \u001b[0mverbose\u001b[0m\u001b[0;34m=\u001b[0m\u001b[0;32mTrue\u001b[0m\u001b[0;34m)\u001b[0m\u001b[0;34m\u001b[0m\u001b[0;34m\u001b[0m\u001b[0m\n\u001b[0m",
            "\u001b[0;31mNameError\u001b[0m: name 'tf' is not defined"
          ]
        }
      ]
    },
    {
      "cell_type": "code",
      "metadata": {
        "id": "MtOk_vd8v9Tc",
        "colab_type": "code",
        "colab": {
          "base_uri": "https://localhost:8080/",
          "height": 292
        },
        "outputId": "1f96b01a-4bc4-4444-96bd-09fc1274257d"
      },
      "source": [
        "import matplotlib.pyplot as plt\n",
        "%matplotlib inline\n",
        "rng = [i for i in range(EPOCHS)]\n",
        "y = [lrfn(x) for x in rng]\n",
        "plt.plot(rng, y)\n",
        "print(\"Learning rate schedule: {:.3g} to {:.3g} to {:.3g}\".format(y[0], max(y), y[-1]))"
      ],
      "execution_count": 2,
      "outputs": [
        {
          "output_type": "stream",
          "text": [
            "Learning rate schedule: 1e-05 to 5e-05 to 2.91e-05\n"
          ],
          "name": "stdout"
        },
        {
          "output_type": "display_data",
          "data": {
            "image/png": "[encoded data removed]",
            "text/plain": [
              "<Figure size 432x288 with 1 Axes>"
            ]
          },
          "metadata": {
            "tags": [],
            "needs_background": "light"
          }
        }
      ]
    },
    {
      "cell_type": "code",
      "metadata": {
        "id": "LGY2Yn3hR1n2",
        "colab_type": "code",
        "colab": {}
      },
      "source": [
        "import tensorflow as tf \n",
        "from tensorflow.keras.preprocessing.image import ImageDataGenerator\n",
        "import pandas as pd\n",
        "import tensorflow.keras.layers as layers\n",
        "\n",
        "img_info = pd.read_csv('labels.csv')\n",
        "img_info['file_path'] = img_info['id'].apply(lambda file_name : f'train/{file_name}.jpg')\n",
        "\n",
        "datagen = ImageDataGenerator(\n",
        "      rescale=1./255,\n",
        "      rotation_range=40,\n",
        "      width_shift_range=0.2,\n",
        "      height_shift_range=0.2,\n",
        "      shear_range=0.2,\n",
        "      zoom_range=0.2,\n",
        "      horizontal_flip=True,\n",
        "      fill_mode='nearest',\n",
        "      validation_split=0.2\n",
        "      )\n",
        "\n",
        "def get_dataset(subset='training'):\n",
        "\n",
        "\tdataset  = datagen.flow_from_dataframe(img_info, x_col = 'file_path', y_col = 'breed', \n",
        "\t\t\t\t\t\t\t\t\t\t\t\tclass_mode = 'categorical', subset = subset)\n",
        "\n",
        "\treturn dataset\n",
        "\n",
        "\n"
      ],
      "execution_count": 3,
      "outputs": []
    },
    {
      "cell_type": "code",
      "metadata": {
        "id": "xzJVAdAC2lqN",
        "colab_type": "code",
        "colab": {}
      },
      "source": [
        ""
      ],
      "execution_count": 10,
      "outputs": []
    },
    {
      "cell_type": "code",
      "metadata": {
        "id": "iDXHVNwmVnEB",
        "colab_type": "code",
        "colab": {}
      },
      "source": [
        "import tensorflow.keras.regularizers as regularizers\n",
        "def create_pretrained_model():\n",
        "  '''Its a very simple model'''\n",
        "  pretrained_model = tf.keras.applications.Xception(weights='imagenet' , include_top = False)\n",
        "\n",
        "  pretrained_model.trainable= True\n",
        "\n",
        "  for layer in pretrained_model.layers[-10:]:\n",
        "    layer.trainable=True\n",
        "\n",
        "  \n",
        "  \n",
        "  x = layers.GlobalAveragePooling2D()(pretrained_model.output)\n",
        "  x = layers.Dense(1024,activation = 'relu')(x)\n",
        "  # x = layers.Dense(512,activation = 'relu')(x)\n",
        "  x = layers.Dense(120,activation='softmax')(x)\n",
        "\n",
        "\n",
        "  model = tf.keras.models.Model(inputs=pretrained_model.input, outputs=x)\n",
        "\n",
        "  model.compile(optimizer='adam', loss='categorical_crossentropy', metrics=['accuracy'])\n",
        " \n",
        "  return model"
      ],
      "execution_count": 4,
      "outputs": []
    },
    {
      "cell_type": "code",
      "metadata": {
        "id": "CSywATeMKd3z",
        "colab_type": "code",
        "colab": {}
      },
      "source": [
        "\n",
        "\n",
        "\n",
        "\n",
        "lrscheduler = tf.keras.callbacks.LearningRateScheduler(lrfn,verbose=1)\n",
        "dognet = create_pretrained_model()\n"
      ],
      "execution_count": 5,
      "outputs": []
    },
    {
      "cell_type": "code",
      "metadata": {
        "id": "9z2bpj0aUUn8",
        "colab_type": "code",
        "colab": {
          "base_uri": "https://localhost:8080/",
          "height": 50
        },
        "outputId": "dd2e5e3a-33c4-4142-bf8d-b5d8b4884ad7"
      },
      "source": [
        "# dognet.summary()\n",
        "train_dataset = get_dataset('training')\n",
        "val_dataset = get_dataset('validation')\n",
        "\n"
      ],
      "execution_count": 6,
      "outputs": [
        {
          "output_type": "stream",
          "text": [
            "Found 8178 validated image filenames belonging to 120 classes.\n",
            "Found 2044 validated image filenames belonging to 120 classes.\n"
          ],
          "name": "stdout"
        }
      ]
    },
    {
      "cell_type": "code",
      "metadata": {
        "id": "pDq6IISsVxji",
        "colab_type": "code",
        "colab": {
          "base_uri": "https://localhost:8080/",
          "height": 1000
        },
        "outputId": "52295b9c-15b1-4691-bdde-7225fa9d213d"
      },
      "source": [
        "\n",
        "checkpoint_path = \"simple_pretrained_model/cp_6.ckpt\"\n",
        "\n",
        "\n",
        "checkpoint = tf.keras.callbacks.ModelCheckpoint(\n",
        "    checkpoint_path, monitor='loss', verbose=1,\n",
        "    save_weights_only=True, mode='auto', save_freq='epoch'\n",
        ")\n",
        "\n",
        "# early_stopper = tf.keras.callbacks.EarlyStopping(monitor='val_loss', patience=2, verbose=1)\n",
        "\n",
        "# tf.keras.backend.set_value(dognet.optimizer.lr , 0.00001)\n",
        "dognet.fit(train_dataset,epochs= 12, validation_data = val_dataset, callbacks = [checkpoint, lrscheduler])"
      ],
      "execution_count": 69,
      "outputs": [
        {
          "output_type": "stream",
          "text": [
            "\n",
            "Epoch 00001: LearningRateScheduler reducing learning rate to 1e-05.\n",
            "Epoch 1/12\n",
            "256/256 [==============================] - ETA: 0s - loss: 4.6310 - accuracy: 0.0866\n",
            "Epoch 00001: saving model to simple_pretrained_model/cp_6.ckpt\n",
            "256/256 [==============================] - 241s 942ms/step - loss: 4.6310 - accuracy: 0.0866 - val_loss: 4.2381 - val_accuracy: 0.2916 - lr: 1.0000e-05\n",
            "\n",
            "Epoch 00002: LearningRateScheduler reducing learning rate to 2e-05.\n",
            "Epoch 2/12\n",
            "256/256 [==============================] - ETA: 0s - loss: 3.1964 - accuracy: 0.5061\n",
            "Epoch 00002: saving model to simple_pretrained_model/cp_6.ckpt\n",
            "256/256 [==============================] - 230s 899ms/step - loss: 3.1964 - accuracy: 0.5061 - val_loss: 1.8103 - val_accuracy: 0.6639 - lr: 2.0000e-05\n",
            "\n",
            "Epoch 00003: LearningRateScheduler reducing learning rate to 3.0000000000000004e-05.\n",
            "Epoch 3/12\n",
            "256/256 [==============================] - ETA: 0s - loss: 1.4119 - accuracy: 0.7196\n",
            "Epoch 00003: saving model to simple_pretrained_model/cp_6.ckpt\n",
            "256/256 [==============================] - 228s 890ms/step - loss: 1.4119 - accuracy: 0.7196 - val_loss: 1.0458 - val_accuracy: 0.7407 - lr: 3.0000e-05\n",
            "\n",
            "Epoch 00004: LearningRateScheduler reducing learning rate to 4e-05.\n",
            "Epoch 4/12\n",
            "256/256 [==============================] - ETA: 0s - loss: 0.8414 - accuracy: 0.7876\n",
            "Epoch 00004: saving model to simple_pretrained_model/cp_6.ckpt\n",
            "256/256 [==============================] - 229s 893ms/step - loss: 0.8414 - accuracy: 0.7876 - val_loss: 0.8328 - val_accuracy: 0.7691 - lr: 4.0000e-05\n",
            "\n",
            "Epoch 00005: LearningRateScheduler reducing learning rate to 5e-05.\n",
            "Epoch 5/12\n",
            "256/256 [==============================] - ETA: 0s - loss: 0.6450 - accuracy: 0.8196\n",
            "Epoch 00005: saving model to simple_pretrained_model/cp_6.ckpt\n",
            "256/256 [==============================] - 230s 897ms/step - loss: 0.6450 - accuracy: 0.8196 - val_loss: 0.8120 - val_accuracy: 0.7568 - lr: 5.0000e-05\n",
            "\n",
            "Epoch 00006: LearningRateScheduler reducing learning rate to 4.6e-05.\n",
            "Epoch 6/12\n",
            "256/256 [==============================] - ETA: 0s - loss: 0.4804 - accuracy: 0.8644\n",
            "Epoch 00006: saving model to simple_pretrained_model/cp_6.ckpt\n",
            "256/256 [==============================] - 228s 892ms/step - loss: 0.4804 - accuracy: 0.8644 - val_loss: 0.7246 - val_accuracy: 0.7877 - lr: 4.6000e-05\n",
            "\n",
            "Epoch 00007: LearningRateScheduler reducing learning rate to 4.24e-05.\n",
            "Epoch 7/12\n",
            "256/256 [==============================] - ETA: 0s - loss: 0.3797 - accuracy: 0.8920\n",
            "Epoch 00007: saving model to simple_pretrained_model/cp_6.ckpt\n",
            "256/256 [==============================] - 229s 894ms/step - loss: 0.3797 - accuracy: 0.8920 - val_loss: 0.7206 - val_accuracy: 0.7833 - lr: 4.2400e-05\n",
            "\n",
            "Epoch 00008: LearningRateScheduler reducing learning rate to 3.9160000000000005e-05.\n",
            "Epoch 8/12\n",
            "256/256 [==============================] - ETA: 0s - loss: 0.3233 - accuracy: 0.9077\n",
            "Epoch 00008: saving model to simple_pretrained_model/cp_6.ckpt\n",
            "256/256 [==============================] - 229s 896ms/step - loss: 0.3233 - accuracy: 0.9077 - val_loss: 0.7174 - val_accuracy: 0.7906 - lr: 3.9160e-05\n",
            "\n",
            "Epoch 00009: LearningRateScheduler reducing learning rate to 3.6244e-05.\n",
            "Epoch 9/12\n",
            "256/256 [==============================] - ETA: 0s - loss: 0.2713 - accuracy: 0.9269\n",
            "Epoch 00009: saving model to simple_pretrained_model/cp_6.ckpt\n",
            "256/256 [==============================] - 228s 889ms/step - loss: 0.2713 - accuracy: 0.9269 - val_loss: 0.7243 - val_accuracy: 0.7857 - lr: 3.6244e-05\n",
            "\n",
            "Epoch 00010: LearningRateScheduler reducing learning rate to 3.3619600000000006e-05.\n",
            "Epoch 10/12\n",
            "256/256 [==============================] - ETA: 0s - loss: 0.2271 - accuracy: 0.9401\n",
            "Epoch 00010: saving model to simple_pretrained_model/cp_6.ckpt\n",
            "256/256 [==============================] - 228s 889ms/step - loss: 0.2271 - accuracy: 0.9401 - val_loss: 0.6948 - val_accuracy: 0.7906 - lr: 3.3620e-05\n",
            "\n",
            "Epoch 00011: LearningRateScheduler reducing learning rate to 3.1257640000000007e-05.\n",
            "Epoch 11/12\n",
            "256/256 [==============================] - ETA: 0s - loss: 0.1930 - accuracy: 0.9471\n",
            "Epoch 00011: saving model to simple_pretrained_model/cp_6.ckpt\n",
            "256/256 [==============================] - 228s 892ms/step - loss: 0.1930 - accuracy: 0.9471 - val_loss: 0.7178 - val_accuracy: 0.7882 - lr: 3.1258e-05\n",
            "\n",
            "Epoch 00012: LearningRateScheduler reducing learning rate to 2.9131876000000006e-05.\n",
            "Epoch 12/12\n",
            "256/256 [==============================] - ETA: 0s - loss: 0.1701 - accuracy: 0.9572\n",
            "Epoch 00012: saving model to simple_pretrained_model/cp_6.ckpt\n",
            "256/256 [==============================] - 228s 891ms/step - loss: 0.1701 - accuracy: 0.9572 - val_loss: 0.6997 - val_accuracy: 0.8053 - lr: 2.9132e-05\n"
          ],
          "name": "stdout"
        },
        {
          "output_type": "execute_result",
          "data": {
            "text/plain": [
              "<tensorflow.python.keras.callbacks.History at 0x7f3d2bc7a400>"
            ]
          },
          "metadata": {
            "tags": []
          },
          "execution_count": 69
        }
      ]
    },
    {
      "cell_type": "code",
      "metadata": {
        "id": "-N6aXBKHau0s",
        "colab_type": "code",
        "colab": {}
      },
      "source": [
        "classes = {index:breed for breed,index in train_dataset.class_indices.items()}\n",
        "column_names = [classes[i] for i in range(120)]\n",
        "# column_names"
      ],
      "execution_count": 7,
      "outputs": []
    },
    {
      "cell_type": "code",
      "metadata": {
        "id": "a3rFgMW-eE6E",
        "colab_type": "code",
        "colab": {
          "base_uri": "https://localhost:8080/",
          "height": 33
        },
        "outputId": "623dabc5-f20e-4b81-f60f-efc59b4e7a0a"
      },
      "source": [
        "dognet.load_weights('simple_pretrained_model/cp_6.ckpt')"
      ],
      "execution_count": 8,
      "outputs": [
        {
          "output_type": "execute_result",
          "data": {
            "text/plain": [
              "<tensorflow.python.training.tracking.util.CheckpointLoadStatus at 0x7fb4025fdf28>"
            ]
          },
          "metadata": {
            "tags": []
          },
          "execution_count": 8
        }
      ]
    },
    {
      "cell_type": "code",
      "metadata": {
        "id": "3gzXAmIfJ0RV",
        "colab_type": "code",
        "colab": {}
      },
      "source": [
        "import os\n",
        "import cv2\n",
        "import pandas as pd\n",
        "\n",
        "test_set = []\n",
        "test_set_ids = []\n",
        "for curImage in os.listdir('test'):\n",
        "    test_set_ids.append(os.path.splitext(curImage)[0])\n",
        "    curImage = cv2.imread('test/'+curImage)\n",
        "    test_set.append(cv2.resize(curImage,(256, 256)))\n",
        "    \n",
        "# test_set = np.array(test_set, np.float32)/255.0"
      ],
      "execution_count": 14,
      "outputs": []
    },
    {
      "cell_type": "code",
      "metadata": {
        "id": "TMw-gvnrKKtb",
        "colab_type": "code",
        "colab": {}
      },
      "source": [
        "\n",
        "import numpy as np\n",
        "test_set = np.array(test_set, np.float32)/255.0\n"
      ],
      "execution_count": 15,
      "outputs": []
    },
    {
      "cell_type": "code",
      "metadata": {
        "id": "mSvnW8NfKRWZ",
        "colab_type": "code",
        "colab": {}
      },
      "source": [
        "predictions= dognet.predict(test_set)"
      ],
      "execution_count": 16,
      "outputs": []
    },
    {
      "cell_type": "code",
      "metadata": {
        "id": "X_y8in9lLV_R",
        "colab_type": "code",
        "colab": {
          "base_uri": "https://localhost:8080/",
          "height": 533
        },
        "outputId": "4496a664-b680-42d3-873b-b707e9426fde"
      },
      "source": [
        "predictions[0]"
      ],
      "execution_count": 17,
      "outputs": [
        {
          "output_type": "execute_result",
          "data": {
            "text/plain": [
              "array([7.61149640e-05, 4.03646816e-04, 8.87534843e-05, 5.25339507e-04,\n",
              "       2.75836210e-04, 2.64538743e-04, 1.15230221e-04, 5.10147875e-05,\n",
              "       5.70853226e-05, 4.90865059e-05, 2.65754107e-03, 4.21965611e-04,\n",
              "       4.68363505e-05, 1.30231827e-04, 2.24699805e-04, 2.22166505e-04,\n",
              "       9.71377303e-05, 1.41287674e-04, 1.93973799e-04, 9.45409483e-05,\n",
              "       1.27620925e-03, 3.71275906e-04, 9.21487444e-05, 3.13521974e-04,\n",
              "       1.22253186e-04, 1.54674752e-04, 1.90953680e-04, 8.11134887e-05,\n",
              "       2.01897812e-04, 1.88311329e-04, 3.38675251e-04, 2.19602394e-03,\n",
              "       1.76915468e-03, 4.24110680e-04, 1.11228065e-03, 6.01794012e-03,\n",
              "       7.80688861e-05, 3.65424290e-04, 3.73947551e-05, 1.20010183e-04,\n",
              "       1.36439223e-03, 6.33250602e-05, 1.51812885e-04, 1.99394111e-04,\n",
              "       2.70357385e-04, 1.38818636e-04, 2.63102720e-05, 1.34666276e-04,\n",
              "       1.75960813e-04, 9.12219984e-04, 4.31861845e-04, 6.23479893e-04,\n",
              "       7.08411331e-04, 1.29565087e-04, 3.56726814e-04, 8.42990048e-05,\n",
              "       1.72414482e-04, 1.47968545e-04, 1.30631856e-03, 5.16417145e-04,\n",
              "       2.93836754e-04, 3.57598474e-04, 1.39602082e-04, 2.46232259e-04,\n",
              "       1.65577585e-04, 2.69696093e-03, 2.25869124e-03, 1.70175190e-04,\n",
              "       1.87334866e-04, 1.61830700e-04, 8.77354643e-04, 4.27534251e-05,\n",
              "       1.04589730e-04, 7.25208083e-04, 1.62828903e-04, 4.60210831e-05,\n",
              "       4.92689073e-01, 1.53993591e-04, 7.78302958e-04, 2.00047216e-04,\n",
              "       1.76639063e-04, 1.20904624e-04, 5.87297895e-04, 8.22649396e-04,\n",
              "       7.13163099e-05, 4.31433291e-04, 2.61404275e-05, 6.10969262e-04,\n",
              "       4.02121805e-05, 2.24577714e-04, 1.27618434e-04, 8.67281924e-05,\n",
              "       5.92360622e-04, 2.64026690e-04, 5.24081464e-04, 3.51228402e-04,\n",
              "       1.39566924e-04, 1.27905060e-03, 4.08550753e-04, 9.70221881e-05,\n",
              "       5.16586064e-04, 1.43135243e-04, 1.03101367e-04, 4.32886445e-04,\n",
              "       9.86342129e-05, 3.88777465e-01, 1.07944456e-04, 4.65073826e-04,\n",
              "       4.55915835e-03, 1.28104899e-03, 6.21629804e-02, 1.53605331e-04,\n",
              "       1.48255989e-04, 2.11079387e-04, 3.95401905e-04, 1.92342355e-04,\n",
              "       2.58921587e-04, 4.04423947e-04, 4.40258998e-04, 2.04023541e-04],\n",
              "      dtype=float32)"
            ]
          },
          "metadata": {
            "tags": []
          },
          "execution_count": 17
        }
      ]
    },
    {
      "cell_type": "code",
      "metadata": {
        "id": "-IB1CxKeMDvS",
        "colab_type": "code",
        "colab": {
          "base_uri": "https://localhost:8080/",
          "height": 33
        },
        "outputId": "59f6015b-054e-44fd-9c40-984ca44f7ac3"
      },
      "source": [
        "len(test_set_ids)"
      ],
      "execution_count": 55,
      "outputs": [
        {
          "output_type": "execute_result",
          "data": {
            "text/plain": [
              "10357"
            ]
          },
          "metadata": {
            "tags": []
          },
          "execution_count": 55
        }
      ]
    },
    {
      "cell_type": "code",
      "metadata": {
        "id": "8eG2zukgKojF",
        "colab_type": "code",
        "colab": {}
      },
      "source": [
        "pred_df = pd.DataFrame(test_set_ids, columns = ['id'])"
      ],
      "execution_count": 18,
      "outputs": []
    },
    {
      "cell_type": "code",
      "metadata": {
        "id": "TZdjGX_fKa5S",
        "colab_type": "code",
        "colab": {
          "base_uri": "https://localhost:8080/",
          "height": 346
        },
        "outputId": "d15ae42e-634b-4f22-b39c-e55385b5f1d4"
      },
      "source": [
        "for col in column_names:\n",
        "  pred_df[col] = 0\n",
        "pred_df.loc[~pred_df['id'].isnull(),column_names] = predictions\n",
        "pred_df.head()"
      ],
      "execution_count": 19,
      "outputs": [
        {
          "output_type": "execute_result",
          "data": {
            "text/html": [
              "<div>\n",
              "<style scoped>\n",
              "    .dataframe tbody tr th:only-of-type {\n",
              "        vertical-align: middle;\n",
              "    }\n",
              "\n",
              "    .dataframe tbody tr th {\n",
              "        vertical-align: top;\n",
              "    }\n",
              "\n",
              "    .dataframe thead th {\n",
              "        text-align: right;\n",
              "    }\n",
              "</style>\n",
              "<table border=\"1\" class=\"dataframe\">\n",
              "  <thead>\n",
              "    <tr style=\"text-align: right;\">\n",
              "      <th></th>\n",
              "      <th>id</th>\n",
              "      <th>affenpinscher</th>\n",
              "      <th>afghan_hound</th>\n",
              "      <th>african_hunting_dog</th>\n",
              "      <th>airedale</th>\n",
              "      <th>american_staffordshire_terrier</th>\n",
              "      <th>appenzeller</th>\n",
              "      <th>australian_terrier</th>\n",
              "      <th>basenji</th>\n",
              "      <th>basset</th>\n",
              "      <th>beagle</th>\n",
              "      <th>bedlington_terrier</th>\n",
              "      <th>bernese_mountain_dog</th>\n",
              "      <th>black-and-tan_coonhound</th>\n",
              "      <th>blenheim_spaniel</th>\n",
              "      <th>bloodhound</th>\n",
              "      <th>bluetick</th>\n",
              "      <th>border_collie</th>\n",
              "      <th>border_terrier</th>\n",
              "      <th>borzoi</th>\n",
              "      <th>boston_bull</th>\n",
              "      <th>bouvier_des_flandres</th>\n",
              "      <th>boxer</th>\n",
              "      <th>brabancon_griffon</th>\n",
              "      <th>briard</th>\n",
              "      <th>brittany_spaniel</th>\n",
              "      <th>bull_mastiff</th>\n",
              "      <th>cairn</th>\n",
              "      <th>cardigan</th>\n",
              "      <th>chesapeake_bay_retriever</th>\n",
              "      <th>chihuahua</th>\n",
              "      <th>chow</th>\n",
              "      <th>clumber</th>\n",
              "      <th>cocker_spaniel</th>\n",
              "      <th>collie</th>\n",
              "      <th>curly-coated_retriever</th>\n",
              "      <th>dandie_dinmont</th>\n",
              "      <th>dhole</th>\n",
              "      <th>dingo</th>\n",
              "      <th>doberman</th>\n",
              "      <th>...</th>\n",
              "      <th>norwegian_elkhound</th>\n",
              "      <th>norwich_terrier</th>\n",
              "      <th>old_english_sheepdog</th>\n",
              "      <th>otterhound</th>\n",
              "      <th>papillon</th>\n",
              "      <th>pekinese</th>\n",
              "      <th>pembroke</th>\n",
              "      <th>pomeranian</th>\n",
              "      <th>pug</th>\n",
              "      <th>redbone</th>\n",
              "      <th>rhodesian_ridgeback</th>\n",
              "      <th>rottweiler</th>\n",
              "      <th>saint_bernard</th>\n",
              "      <th>saluki</th>\n",
              "      <th>samoyed</th>\n",
              "      <th>schipperke</th>\n",
              "      <th>scotch_terrier</th>\n",
              "      <th>scottish_deerhound</th>\n",
              "      <th>sealyham_terrier</th>\n",
              "      <th>shetland_sheepdog</th>\n",
              "      <th>shih-tzu</th>\n",
              "      <th>siberian_husky</th>\n",
              "      <th>silky_terrier</th>\n",
              "      <th>soft-coated_wheaten_terrier</th>\n",
              "      <th>staffordshire_bullterrier</th>\n",
              "      <th>standard_poodle</th>\n",
              "      <th>standard_schnauzer</th>\n",
              "      <th>sussex_spaniel</th>\n",
              "      <th>tibetan_mastiff</th>\n",
              "      <th>tibetan_terrier</th>\n",
              "      <th>toy_poodle</th>\n",
              "      <th>toy_terrier</th>\n",
              "      <th>vizsla</th>\n",
              "      <th>walker_hound</th>\n",
              "      <th>weimaraner</th>\n",
              "      <th>welsh_springer_spaniel</th>\n",
              "      <th>west_highland_white_terrier</th>\n",
              "      <th>whippet</th>\n",
              "      <th>wire-haired_fox_terrier</th>\n",
              "      <th>yorkshire_terrier</th>\n",
              "    </tr>\n",
              "  </thead>\n",
              "  <tbody>\n",
              "    <tr>\n",
              "      <th>0</th>\n",
              "      <td>d524e1319b967c4e111b2ff4c75c5959</td>\n",
              "      <td>0.000076</td>\n",
              "      <td>0.000404</td>\n",
              "      <td>0.000089</td>\n",
              "      <td>0.000525</td>\n",
              "      <td>0.000276</td>\n",
              "      <td>0.000265</td>\n",
              "      <td>0.000115</td>\n",
              "      <td>0.000051</td>\n",
              "      <td>0.000057</td>\n",
              "      <td>4.908651e-05</td>\n",
              "      <td>2.657541e-03</td>\n",
              "      <td>4.219656e-04</td>\n",
              "      <td>4.683635e-05</td>\n",
              "      <td>1.302318e-04</td>\n",
              "      <td>2.246998e-04</td>\n",
              "      <td>2.221665e-04</td>\n",
              "      <td>0.000097</td>\n",
              "      <td>0.000141</td>\n",
              "      <td>0.000194</td>\n",
              "      <td>0.000095</td>\n",
              "      <td>0.001276</td>\n",
              "      <td>0.000371</td>\n",
              "      <td>0.000092</td>\n",
              "      <td>0.000314</td>\n",
              "      <td>1.222532e-04</td>\n",
              "      <td>0.000155</td>\n",
              "      <td>0.000191</td>\n",
              "      <td>0.000081</td>\n",
              "      <td>0.000202</td>\n",
              "      <td>0.000188</td>\n",
              "      <td>0.000339</td>\n",
              "      <td>2.196024e-03</td>\n",
              "      <td>0.001769</td>\n",
              "      <td>0.000424</td>\n",
              "      <td>0.001112</td>\n",
              "      <td>6.017940e-03</td>\n",
              "      <td>0.000078</td>\n",
              "      <td>0.000365</td>\n",
              "      <td>0.000037</td>\n",
              "      <td>...</td>\n",
              "      <td>0.000177</td>\n",
              "      <td>0.000121</td>\n",
              "      <td>5.872979e-04</td>\n",
              "      <td>0.000823</td>\n",
              "      <td>7.131631e-05</td>\n",
              "      <td>0.000431</td>\n",
              "      <td>0.000026</td>\n",
              "      <td>0.000611</td>\n",
              "      <td>0.000040</td>\n",
              "      <td>0.000225</td>\n",
              "      <td>0.000128</td>\n",
              "      <td>0.000087</td>\n",
              "      <td>5.923606e-04</td>\n",
              "      <td>2.640267e-04</td>\n",
              "      <td>0.000524</td>\n",
              "      <td>0.000351</td>\n",
              "      <td>0.000140</td>\n",
              "      <td>0.001279</td>\n",
              "      <td>0.000409</td>\n",
              "      <td>0.000097</td>\n",
              "      <td>5.165861e-04</td>\n",
              "      <td>0.000143</td>\n",
              "      <td>0.000103</td>\n",
              "      <td>0.000433</td>\n",
              "      <td>0.000099</td>\n",
              "      <td>0.388777</td>\n",
              "      <td>0.000108</td>\n",
              "      <td>0.000465</td>\n",
              "      <td>0.004559</td>\n",
              "      <td>0.001281</td>\n",
              "      <td>0.062163</td>\n",
              "      <td>0.000154</td>\n",
              "      <td>1.482560e-04</td>\n",
              "      <td>2.110794e-04</td>\n",
              "      <td>0.000395</td>\n",
              "      <td>1.923424e-04</td>\n",
              "      <td>0.000259</td>\n",
              "      <td>0.000404</td>\n",
              "      <td>0.000440</td>\n",
              "      <td>0.000204</td>\n",
              "    </tr>\n",
              "    <tr>\n",
              "      <th>1</th>\n",
              "      <td>36939316bd5dc74df7e0c33e76074408</td>\n",
              "      <td>0.000188</td>\n",
              "      <td>0.000240</td>\n",
              "      <td>0.000078</td>\n",
              "      <td>0.000375</td>\n",
              "      <td>0.000536</td>\n",
              "      <td>0.000048</td>\n",
              "      <td>0.000254</td>\n",
              "      <td>0.000087</td>\n",
              "      <td>0.000209</td>\n",
              "      <td>8.434132e-04</td>\n",
              "      <td>1.137588e-02</td>\n",
              "      <td>5.018630e-05</td>\n",
              "      <td>4.066187e-05</td>\n",
              "      <td>5.944302e-04</td>\n",
              "      <td>2.003692e-05</td>\n",
              "      <td>1.146489e-04</td>\n",
              "      <td>0.000066</td>\n",
              "      <td>0.000137</td>\n",
              "      <td>0.005185</td>\n",
              "      <td>0.000430</td>\n",
              "      <td>0.000505</td>\n",
              "      <td>0.003948</td>\n",
              "      <td>0.000779</td>\n",
              "      <td>0.000839</td>\n",
              "      <td>1.025260e-03</td>\n",
              "      <td>0.000253</td>\n",
              "      <td>0.011838</td>\n",
              "      <td>0.001041</td>\n",
              "      <td>0.000326</td>\n",
              "      <td>0.034704</td>\n",
              "      <td>0.000296</td>\n",
              "      <td>1.679254e-02</td>\n",
              "      <td>0.002783</td>\n",
              "      <td>0.000141</td>\n",
              "      <td>0.000123</td>\n",
              "      <td>1.428862e-03</td>\n",
              "      <td>0.000073</td>\n",
              "      <td>0.000590</td>\n",
              "      <td>0.000214</td>\n",
              "      <td>...</td>\n",
              "      <td>0.000208</td>\n",
              "      <td>0.000330</td>\n",
              "      <td>2.396126e-03</td>\n",
              "      <td>0.000316</td>\n",
              "      <td>3.626364e-05</td>\n",
              "      <td>0.000790</td>\n",
              "      <td>0.000078</td>\n",
              "      <td>0.004309</td>\n",
              "      <td>0.002427</td>\n",
              "      <td>0.000085</td>\n",
              "      <td>0.000048</td>\n",
              "      <td>0.000080</td>\n",
              "      <td>7.398234e-05</td>\n",
              "      <td>8.312361e-04</td>\n",
              "      <td>0.006995</td>\n",
              "      <td>0.000529</td>\n",
              "      <td>0.023190</td>\n",
              "      <td>0.000098</td>\n",
              "      <td>0.119311</td>\n",
              "      <td>0.000117</td>\n",
              "      <td>2.192256e-03</td>\n",
              "      <td>0.004838</td>\n",
              "      <td>0.000585</td>\n",
              "      <td>0.062605</td>\n",
              "      <td>0.007494</td>\n",
              "      <td>0.000428</td>\n",
              "      <td>0.001357</td>\n",
              "      <td>0.000063</td>\n",
              "      <td>0.000098</td>\n",
              "      <td>0.000536</td>\n",
              "      <td>0.000465</td>\n",
              "      <td>0.003673</td>\n",
              "      <td>1.390668e-04</td>\n",
              "      <td>2.600399e-03</td>\n",
              "      <td>0.000580</td>\n",
              "      <td>2.293316e-04</td>\n",
              "      <td>0.389565</td>\n",
              "      <td>0.000234</td>\n",
              "      <td>0.075537</td>\n",
              "      <td>0.000412</td>\n",
              "    </tr>\n",
              "    <tr>\n",
              "      <th>2</th>\n",
              "      <td>510a2f5eb6a0f513e2f9c2eb7545e10b</td>\n",
              "      <td>0.000435</td>\n",
              "      <td>0.000011</td>\n",
              "      <td>0.000003</td>\n",
              "      <td>0.000001</td>\n",
              "      <td>0.000008</td>\n",
              "      <td>0.000002</td>\n",
              "      <td>0.000004</td>\n",
              "      <td>0.000010</td>\n",
              "      <td>0.000002</td>\n",
              "      <td>6.701845e-07</td>\n",
              "      <td>4.834921e-07</td>\n",
              "      <td>4.584125e-07</td>\n",
              "      <td>6.459808e-07</td>\n",
              "      <td>9.728797e-07</td>\n",
              "      <td>4.947200e-07</td>\n",
              "      <td>6.179966e-07</td>\n",
              "      <td>0.000005</td>\n",
              "      <td>0.000004</td>\n",
              "      <td>0.000002</td>\n",
              "      <td>0.000001</td>\n",
              "      <td>0.800992</td>\n",
              "      <td>0.000011</td>\n",
              "      <td>0.000010</td>\n",
              "      <td>0.118827</td>\n",
              "      <td>1.868089e-07</td>\n",
              "      <td>0.000011</td>\n",
              "      <td>0.027552</td>\n",
              "      <td>0.000005</td>\n",
              "      <td>0.000006</td>\n",
              "      <td>0.000004</td>\n",
              "      <td>0.000081</td>\n",
              "      <td>7.556085e-07</td>\n",
              "      <td>0.000004</td>\n",
              "      <td>0.000006</td>\n",
              "      <td>0.000003</td>\n",
              "      <td>2.351452e-07</td>\n",
              "      <td>0.000001</td>\n",
              "      <td>0.000004</td>\n",
              "      <td>0.000008</td>\n",
              "      <td>...</td>\n",
              "      <td>0.000014</td>\n",
              "      <td>0.000018</td>\n",
              "      <td>8.258077e-07</td>\n",
              "      <td>0.000001</td>\n",
              "      <td>1.575841e-07</td>\n",
              "      <td>0.000005</td>\n",
              "      <td>0.000002</td>\n",
              "      <td>0.000007</td>\n",
              "      <td>0.000005</td>\n",
              "      <td>0.000001</td>\n",
              "      <td>0.000002</td>\n",
              "      <td>0.000005</td>\n",
              "      <td>1.789054e-07</td>\n",
              "      <td>5.564833e-07</td>\n",
              "      <td>0.000004</td>\n",
              "      <td>0.000177</td>\n",
              "      <td>0.001207</td>\n",
              "      <td>0.000004</td>\n",
              "      <td>0.000001</td>\n",
              "      <td>0.000008</td>\n",
              "      <td>2.765133e-07</td>\n",
              "      <td>0.000002</td>\n",
              "      <td>0.000004</td>\n",
              "      <td>0.000017</td>\n",
              "      <td>0.000024</td>\n",
              "      <td>0.000018</td>\n",
              "      <td>0.000026</td>\n",
              "      <td>0.000005</td>\n",
              "      <td>0.000107</td>\n",
              "      <td>0.000073</td>\n",
              "      <td>0.000002</td>\n",
              "      <td>0.000001</td>\n",
              "      <td>1.706393e-07</td>\n",
              "      <td>3.492984e-07</td>\n",
              "      <td>0.000001</td>\n",
              "      <td>7.493962e-08</td>\n",
              "      <td>0.000002</td>\n",
              "      <td>0.000012</td>\n",
              "      <td>0.000006</td>\n",
              "      <td>0.000005</td>\n",
              "    </tr>\n",
              "    <tr>\n",
              "      <th>3</th>\n",
              "      <td>b9e559b5221526b613a55512d5f2cb60</td>\n",
              "      <td>0.000140</td>\n",
              "      <td>0.000412</td>\n",
              "      <td>0.000215</td>\n",
              "      <td>0.000605</td>\n",
              "      <td>0.007185</td>\n",
              "      <td>0.013111</td>\n",
              "      <td>0.000175</td>\n",
              "      <td>0.001414</td>\n",
              "      <td>0.004755</td>\n",
              "      <td>2.169921e-02</td>\n",
              "      <td>1.460239e-04</td>\n",
              "      <td>2.026456e-03</td>\n",
              "      <td>3.512759e-04</td>\n",
              "      <td>5.704058e-03</td>\n",
              "      <td>1.503301e-04</td>\n",
              "      <td>6.246829e-02</td>\n",
              "      <td>0.008161</td>\n",
              "      <td>0.000775</td>\n",
              "      <td>0.001980</td>\n",
              "      <td>0.464053</td>\n",
              "      <td>0.000858</td>\n",
              "      <td>0.005716</td>\n",
              "      <td>0.000364</td>\n",
              "      <td>0.003618</td>\n",
              "      <td>1.306330e-03</td>\n",
              "      <td>0.000473</td>\n",
              "      <td>0.000628</td>\n",
              "      <td>0.035977</td>\n",
              "      <td>0.000776</td>\n",
              "      <td>0.002455</td>\n",
              "      <td>0.000339</td>\n",
              "      <td>9.221053e-04</td>\n",
              "      <td>0.003686</td>\n",
              "      <td>0.015194</td>\n",
              "      <td>0.000289</td>\n",
              "      <td>1.442507e-04</td>\n",
              "      <td>0.000244</td>\n",
              "      <td>0.000387</td>\n",
              "      <td>0.000253</td>\n",
              "      <td>...</td>\n",
              "      <td>0.002347</td>\n",
              "      <td>0.000288</td>\n",
              "      <td>3.226099e-03</td>\n",
              "      <td>0.000150</td>\n",
              "      <td>4.513859e-04</td>\n",
              "      <td>0.000610</td>\n",
              "      <td>0.000131</td>\n",
              "      <td>0.000377</td>\n",
              "      <td>0.001008</td>\n",
              "      <td>0.000231</td>\n",
              "      <td>0.000074</td>\n",
              "      <td>0.000364</td>\n",
              "      <td>8.811563e-02</td>\n",
              "      <td>1.834144e-03</td>\n",
              "      <td>0.000659</td>\n",
              "      <td>0.000280</td>\n",
              "      <td>0.000548</td>\n",
              "      <td>0.000193</td>\n",
              "      <td>0.000260</td>\n",
              "      <td>0.000159</td>\n",
              "      <td>3.229914e-03</td>\n",
              "      <td>0.029951</td>\n",
              "      <td>0.000327</td>\n",
              "      <td>0.000538</td>\n",
              "      <td>0.002682</td>\n",
              "      <td>0.000610</td>\n",
              "      <td>0.001013</td>\n",
              "      <td>0.000139</td>\n",
              "      <td>0.003312</td>\n",
              "      <td>0.005926</td>\n",
              "      <td>0.000168</td>\n",
              "      <td>0.004558</td>\n",
              "      <td>8.560470e-05</td>\n",
              "      <td>1.014127e-02</td>\n",
              "      <td>0.000537</td>\n",
              "      <td>7.412911e-04</td>\n",
              "      <td>0.000787</td>\n",
              "      <td>0.005163</td>\n",
              "      <td>0.001477</td>\n",
              "      <td>0.000571</td>\n",
              "    </tr>\n",
              "    <tr>\n",
              "      <th>4</th>\n",
              "      <td>5e1940d82de5036864fb3a44fa49bd7c</td>\n",
              "      <td>0.000744</td>\n",
              "      <td>0.000147</td>\n",
              "      <td>0.000544</td>\n",
              "      <td>0.000301</td>\n",
              "      <td>0.000221</td>\n",
              "      <td>0.000075</td>\n",
              "      <td>0.002829</td>\n",
              "      <td>0.000191</td>\n",
              "      <td>0.000319</td>\n",
              "      <td>2.089301e-04</td>\n",
              "      <td>6.182506e-04</td>\n",
              "      <td>4.601730e-05</td>\n",
              "      <td>1.315688e-04</td>\n",
              "      <td>1.745718e-04</td>\n",
              "      <td>5.083639e-05</td>\n",
              "      <td>1.713433e-04</td>\n",
              "      <td>0.000164</td>\n",
              "      <td>0.000696</td>\n",
              "      <td>0.000834</td>\n",
              "      <td>0.000237</td>\n",
              "      <td>0.000324</td>\n",
              "      <td>0.000502</td>\n",
              "      <td>0.000292</td>\n",
              "      <td>0.000934</td>\n",
              "      <td>1.675288e-04</td>\n",
              "      <td>0.000097</td>\n",
              "      <td>0.181296</td>\n",
              "      <td>0.000913</td>\n",
              "      <td>0.000175</td>\n",
              "      <td>0.003052</td>\n",
              "      <td>0.000138</td>\n",
              "      <td>3.168978e-04</td>\n",
              "      <td>0.000440</td>\n",
              "      <td>0.000695</td>\n",
              "      <td>0.000114</td>\n",
              "      <td>2.239648e-02</td>\n",
              "      <td>0.000593</td>\n",
              "      <td>0.002542</td>\n",
              "      <td>0.000190</td>\n",
              "      <td>...</td>\n",
              "      <td>0.001150</td>\n",
              "      <td>0.020299</td>\n",
              "      <td>1.212308e-03</td>\n",
              "      <td>0.001039</td>\n",
              "      <td>5.000368e-05</td>\n",
              "      <td>0.000137</td>\n",
              "      <td>0.000517</td>\n",
              "      <td>0.001864</td>\n",
              "      <td>0.000140</td>\n",
              "      <td>0.000051</td>\n",
              "      <td>0.000084</td>\n",
              "      <td>0.000031</td>\n",
              "      <td>4.278621e-05</td>\n",
              "      <td>2.584510e-04</td>\n",
              "      <td>0.000994</td>\n",
              "      <td>0.001087</td>\n",
              "      <td>0.034202</td>\n",
              "      <td>0.001471</td>\n",
              "      <td>0.001436</td>\n",
              "      <td>0.000223</td>\n",
              "      <td>2.468058e-04</td>\n",
              "      <td>0.001377</td>\n",
              "      <td>0.000601</td>\n",
              "      <td>0.003420</td>\n",
              "      <td>0.000735</td>\n",
              "      <td>0.000272</td>\n",
              "      <td>0.001143</td>\n",
              "      <td>0.000106</td>\n",
              "      <td>0.000220</td>\n",
              "      <td>0.000948</td>\n",
              "      <td>0.000167</td>\n",
              "      <td>0.001651</td>\n",
              "      <td>7.687934e-05</td>\n",
              "      <td>1.052114e-04</td>\n",
              "      <td>0.000116</td>\n",
              "      <td>1.473904e-04</td>\n",
              "      <td>0.601624</td>\n",
              "      <td>0.000586</td>\n",
              "      <td>0.012809</td>\n",
              "      <td>0.001759</td>\n",
              "    </tr>\n",
              "  </tbody>\n",
              "</table>\n",
              "<p>5 rows × 121 columns</p>\n",
              "</div>"
            ],
            "text/plain": [
              "                                 id  ...  yorkshire_terrier\n",
              "0  d524e1319b967c4e111b2ff4c75c5959  ...           0.000204\n",
              "1  36939316bd5dc74df7e0c33e76074408  ...           0.000412\n",
              "2  510a2f5eb6a0f513e2f9c2eb7545e10b  ...           0.000005\n",
              "3  b9e559b5221526b613a55512d5f2cb60  ...           0.000571\n",
              "4  5e1940d82de5036864fb3a44fa49bd7c  ...           0.001759\n",
              "\n",
              "[5 rows x 121 columns]"
            ]
          },
          "metadata": {
            "tags": []
          },
          "execution_count": 19
        }
      ]
    },
    {
      "cell_type": "code",
      "metadata": {
        "id": "tiUGl5gGQEWy",
        "colab_type": "code",
        "colab": {}
      },
      "source": [
        "pred_df.to_csv('dognet_preds.csv', index=False)"
      ],
      "execution_count": 20,
      "outputs": []
    },
    {
      "cell_type": "code",
      "metadata": {
        "id": "VBNpQIuFRqxY",
        "colab_type": "code",
        "colab": {
          "base_uri": "https://localhost:8080/",
          "height": 283
        },
        "outputId": "1eb6c162-9bbe-4d86-8a54-9c64a95012d6"
      },
      "source": [
        "!zip dognet.zip simple_pretrained_model/*\n"
      ],
      "execution_count": 21,
      "outputs": [
        {
          "output_type": "stream",
          "text": [
            "updating: simple_pretrained_model/checkpoint (deflated 39%)\n",
            "updating: simple_pretrained_model/cp2.ckpt.data-00000-of-00002 (deflated 90%)\n",
            "updating: simple_pretrained_model/cp2.ckpt.data-00001-of-00002 (deflated 8%)\n",
            "updating: simple_pretrained_model/cp2.ckpt.index (deflated 81%)\n",
            "updating: simple_pretrained_model/cp3.ckpt.data-00000-of-00002 (deflated 90%)\n",
            "updating: simple_pretrained_model/cp3.ckpt.data-00001-of-00002 (deflated 8%)\n",
            "updating: simple_pretrained_model/cp3.ckpt.index (deflated 81%)\n",
            "updating: simple_pretrained_model/cp4.ckpt.data-00000-of-00002 (deflated 90%)\n",
            "updating: simple_pretrained_model/cp4.ckpt.data-00001-of-00002 (deflated 8%)\n",
            "updating: simple_pretrained_model/cp4.ckpt.index (deflated 81%)\n",
            "updating: simple_pretrained_model/cp5.ckpt.data-00000-of-00002 (deflated 90%)\n",
            "updating: simple_pretrained_model/cp5.ckpt.data-00001-of-00002 (deflated 8%)\n",
            "updating: simple_pretrained_model/cp5.ckpt.index (deflated 81%)\n",
            "  adding: simple_pretrained_model/cp_6.ckpt.data-00000-of-00002 (deflated 90%)\n",
            "  adding: simple_pretrained_model/cp_6.ckpt.data-00001-of-00002 (deflated 8%)\n",
            "  adding: simple_pretrained_model/cp_6.ckpt.index (deflated 81%)\n"
          ],
          "name": "stdout"
        }
      ]
    },
    {
      "cell_type": "code",
      "metadata": {
        "id": "-1xa_t-KQGne",
        "colab_type": "code",
        "colab": {}
      },
      "source": [
        "!cp dognet.zip \"drive/My Drive/\""
      ],
      "execution_count": 22,
      "outputs": []
    },
    {
      "cell_type": "code",
      "metadata": {
        "id": "685c_MJfQPad",
        "colab_type": "code",
        "colab": {}
      },
      "source": [
        ""
      ],
      "execution_count": null,
      "outputs": []
    }
  ]
}